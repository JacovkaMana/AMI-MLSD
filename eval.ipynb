{
 "cells": [
  {
   "cell_type": "markdown",
   "metadata": {},
   "source": [
    "For the baseline, we will use generated adventure from donjon.bin.sh \n",
    "\n",
    "As a method, we will use Rouge and extract a prompt on how to generate each one of these adventures and then try to generate them from our Multi Agent System\n"
   ]
  },
  {
   "cell_type": "code",
   "execution_count": 8,
   "metadata": {},
   "outputs": [
    {
     "data": {
      "text/plain": [
       "2"
      ]
     },
     "execution_count": 8,
     "metadata": {},
     "output_type": "execute_result"
    }
   ],
   "source": [
    "from main import run\n",
    "from loguru import logger as log\n",
    "import sys\n",
    "log.remove() #remove the old handler. Else, the old one will work (and continue printing DEBUG logs) along with the new handler added below'\n",
    "log.add(sys.stdout, level=\"ERROR\") #add a new handler which has INFO as the default\n"
   ]
  },
  {
   "cell_type": "code",
   "execution_count": 12,
   "metadata": {},
   "outputs": [
    {
     "data": {
      "text/plain": [
       "['Создай мир с затерянным городом, древним проклятием и тремя героями: воином, магом и воровкой. Включи лес с магическими существами и горы с древними руинами.',\n",
       " '\"Создай мир, где люди живут на плавучих островах, добавь несколько городов, леса из кристаллов и персонажей с магическими способностями.\"',\n",
       " 'Создай мир под названием \"Звёздный Путь\". Включи в него несколько мест, таких как древний лес, заброшенный город и таинственный замок. Добавь несколько персонажей: мудрого мага, храброго воина и загадочного путешественника. Убедись, что в мире есть древние артефакты и магические существа.',\n",
       " '\"Создай мир, где люди живут в плавающих городах, есть древний лес с магическими существами и подземные пещеры с кристаллами, а также три персонажа: исследователь, маг и воин.\"']"
      ]
     },
     "execution_count": 12,
     "metadata": {},
     "output_type": "execute_result"
    }
   ],
   "source": [
    "from llm import LLM\n",
    "\n",
    "\n",
    "data = []\n",
    "\n",
    "system = \"\"\"\n",
    "You are an AI assistant specialized in generatings user queries.\n",
    "Given a task, make a short prompt in 10-30 words.\n",
    "You should answer in Russian like a human adressing a system interface with their voice\n",
    "\"\"\"\n",
    "for i in range(1, 5):\n",
    "\n",
    "    llm = LLM(model_name='mistral-small-latest', system_prompt=system, temperature=1.0)\n",
    "\n",
    "    response = llm.complete(prompt=f\"\"\"\n",
    "Create a world creation prompt, \\\n",
    "that will create a setting, a world, a few locations and a few characters.\n",
    "You should include some random things that you want in an adventure in this world\"\"\")\n",
    "\n",
    "    data.append(response)\n",
    "\n",
    "data"
   ]
  },
  {
   "cell_type": "code",
   "execution_count": 13,
   "metadata": {},
   "outputs": [
    {
     "name": "stdout",
     "output_type": "stream",
     "text": [
      "Working on Создай мир с затерянным городом, древним проклятием и тремя героями: воином, магом и воровкой. Включи лес с магическими существами и горы с древними руинами.\n",
      "71.11522102355957\n",
      "Working on \"Создай мир, где люди живут на плавучих островах, добавь несколько городов, леса из кристаллов и персонажей с магическими способностями.\"\n",
      "55.332016468048096\n",
      "Working on Создай мир под названием \"Звёздный Путь\". Включи в него несколько мест, таких как древний лес, заброшенный город и таинственный замок. Добавь несколько персонажей: мудрого мага, храброго воина и загадочного путешественника. Убедись, что в мире есть древние артефакты и магические существа.\n",
      "111.05542039871216\n",
      "Working on \"Создай мир, где люди живут в плавающих городах, есть древний лес с магическими существами и подземные пещеры с кристаллами, а также три персонажа: исследователь, маг и воин.\"\n",
      "78.79459857940674\n",
      "Average time 79.07431411743164\n"
     ]
    }
   ],
   "source": [
    "import main\n",
    "import time\n",
    "\n",
    "import importlib\n",
    "importlib.reload(main)\n",
    "\n",
    "\n",
    "res = {}\n",
    "times =[]\n",
    "for prompt in data:\n",
    "    print('Working on', prompt)\n",
    "    start = time.time()\n",
    "\n",
    "    try:\n",
    "        res[prompt] = main.run(prompt)\n",
    "    except:\n",
    "        print('Failed')\n",
    "        \n",
    "    speed = time.time() - start \n",
    "    print(speed)\n",
    "    times.append(speed)"
   ]
  },
  {
   "cell_type": "code",
   "execution_count": 14,
   "metadata": {},
   "outputs": [
    {
     "name": "stdout",
     "output_type": "stream",
     "text": [
      "Average time 79.07 seconds\n"
     ]
    }
   ],
   "source": [
    "print('Average time', round(sum(times) / len(times), 2), 'seconds')"
   ]
  },
  {
   "cell_type": "code",
   "execution_count": null,
   "metadata": {},
   "outputs": [
    {
     "name": "stdout",
     "output_type": "stream",
     "text": [
      "('Task: Создай мир с затерянным городом, древним проклятием и тремя героями: '\n",
      " 'воином, магом и воровкой. Включи лес с магическими существами и горы с '\n",
      " 'древними руинами.')\n",
      "('Result: В далеком мире Эльдарион, где магия и реальность переплетаются, '\n",
      " 'создавая уникальную и таинственную атмосферу, существует древнее проклятие, '\n",
      " 'которое передается из поколения в поколение. Магия пронизывает каждую '\n",
      " 'частичку этого мира, влияя на природу, животных и людей. В центре этого мира '\n",
      " 'находится зат')\n",
      "95\n",
      "95\n",
      "('Task: \"Создай мир, где люди живут на плавучих островах, добавь несколько '\n",
      " 'городов, леса из кристаллов и персонажей с магическими способностями.\"')\n",
      "('Result: В далёком мире, известном как Небесный Архипелаг, люди живут на '\n",
      " 'плавучих островах, парящих высоко в небе. Этот мир полон магии и чудес, где '\n",
      " 'каждый житель обладает уникальными способностями. В центре этого мира '\n",
      " 'находится город Аэрион, также известный как Город Облачных Вершин.\\n'\n",
      " '\\n'\n",
      " 'Аэрион — это уникальны')\n",
      "95\n",
      "95\n",
      "('Task: Создай мир под названием \"Звёздный Путь\". Включи в него несколько '\n",
      " 'мест, таких как древний лес, заброшенный город и таинственный замок. Добавь '\n",
      " 'несколько персонажей: мудрого мага, храброго воина и загадочного '\n",
      " 'путешественника. Убедись, что в мире есть древние артефакты и магические '\n",
      " 'существа.')\n",
      "('Result: В далеком уголке галактики, где звезды светят ярче, чем где-либо '\n",
      " 'еще, находится мир под названием \"Звёздный Путь\". Это место, где магия и '\n",
      " 'технологии переплетаются, создавая уникальную атмосферу тайн и чудес. Твой '\n",
      " 'путь начинается в городе Нова-Прима, сердце этого удивительного мира.\\n'\n",
      " '\\n'\n",
      " '**Нова-Прима** —')\n",
      "95\n",
      "95\n",
      "('Task: \"Создай мир, где люди живут в плавающих городах, есть древний лес с '\n",
      " 'магическими существами и подземные пещеры с кристаллами, а также три '\n",
      " 'персонажа: исследователь, маг и воин.\"')\n",
      "('Result: В далеком мире, где люди живут в плавающих городах, есть место, '\n",
      " 'называемое Аэрион. Этот город, витающий высоко в небесах, поддерживается '\n",
      " 'древней магией и передовыми технологиями. Аэрион — это символ свободы и '\n",
      " 'прогресса, где каждый день начинается с восхода солнца, а заканчивается '\n",
      " 'закатом, когда горо')\n",
      "95\n",
      "95\n"
     ]
    }
   ],
   "source": [
    "import llm_judge\n",
    "from pprint import pprint\n",
    "import importlib\n",
    "importlib.reload(llm_judge)\n",
    "llm_judge = llm_judge.LLMJudge()\n",
    "\n",
    "rel_scores = []\n",
    "creat_scores = []\n",
    "for key, value in res.items():\n",
    "    rel, creat = llm_judge.evaluate(key, value)\n",
    "    pprint(key)\n",
    "    pprint(rel['score'])\n",
    "    pprint(creat['score'])\n",
    "    rel_scores.append(rel['score'])\n",
    "    creat_scores.append(creat['score'])\n"
   ]
  },
  {
   "cell_type": "code",
   "execution_count": 19,
   "metadata": {},
   "outputs": [
    {
     "name": "stdout",
     "output_type": "stream",
     "text": [
      "Average relevance 95.0 / 100\n",
      "Average creativity 95.0 / 100\n"
     ]
    }
   ],
   "source": [
    "print('Average relevance', round(sum(rel_scores) / len(rel_scores), 2), '/ 100')\n",
    "print('Average creativity', round(sum(creat_scores) / len(creat_scores), 2), '/ 100')"
   ]
  }
 ],
 "metadata": {
  "kernelspec": {
   "display_name": "venv",
   "language": "python",
   "name": "python3"
  },
  "language_info": {
   "codemirror_mode": {
    "name": "ipython",
    "version": 3
   },
   "file_extension": ".py",
   "mimetype": "text/x-python",
   "name": "python",
   "nbconvert_exporter": "python",
   "pygments_lexer": "ipython3",
   "version": "3.12.6"
  }
 },
 "nbformat": 4,
 "nbformat_minor": 2
}
