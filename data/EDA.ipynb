{
 "cells": [
  {
   "cell_type": "markdown",
   "metadata": {},
   "source": [
    "## Datasets\n",
    "- **Best Books Ever**: Book metadata with descriptions (Zenodo).\n",
    "- **Fantasy-Name-Generator**: Names from WoW, LOTR, etc. (GitHub).\n",
    "- **Game of Thrones**: Locations and regions (GitHub).\n",
    "- **CharacterCodex**: Character descriptions (Hugging Face).\n",
    "- **Dungeons & Dragons**: D&D character data (Kaggle).\n",
    "- **Reddit D&D Characters**: 2,775+ D&D character profiles (GitHub).\n",
    "- **Fantasy Locations**: Fictional location names (GitHub)."
   ]
  },
  {
   "cell_type": "code",
   "execution_count": 48,
   "metadata": {},
   "outputs": [
    {
     "name": "stdout",
     "output_type": "stream",
     "text": [
      "Best Books Ever: 15200 descriptions\n",
      "                                       title  \\\n",
      "0                           The Hunger Games   \n",
      "1  Harry Potter and the Order of the Phoenix   \n",
      "4                                   Twilight   \n",
      "6                                Animal Farm   \n",
      "7                   The Chronicles of Narnia   \n",
      "\n",
      "                                         description  \n",
      "0  WINNING MEANS FAME AND FORTUNE.LOSING MEANS CE...  \n",
      "1  There is a door at the end of a silent corrido...  \n",
      "4  About three things I was absolutely positive.\\...  \n",
      "6  Librarian's note: There is an Alternate Cover ...  \n",
      "7  Journeys to the end of the world, fantastic cr...  \n"
     ]
    }
   ],
   "source": [
    "import pandas as pd\n",
    "import requests\n",
    "import json\n",
    "\n",
    "# Best Books Ever Dataset\n",
    "# Download from Zenodo, filter for fantasy, and extract descriptions.\n",
    "\n",
    "\n",
    "url_bbe = (\n",
    "    \"https://zenodo.org/records/4265096/files/books_1.Best_Books_Ever.csv?download=1\"\n",
    ")\n",
    "try:\n",
    "    response_bbe = requests.get(url_bbe)\n",
    "    with open(\"data/best_books_ever.csv\", \"wb\") as file:\n",
    "        file.write(response_bbe.content)\n",
    "    df_bbe = pd.read_csv(\"data/best_books_ever.csv\")\n",
    "    df_bbe.drop_duplicates(inplace=True)\n",
    "    df_bbe = df_bbe[df_bbe[\"genres\"].str.contains(\"fantasy\", case=False, na=False)]\n",
    "    df_bbe = df_bbe.dropna(subset=[\"description\"])\n",
    "    bbe_descriptions = df_bbe[\"description\"].tolist()\n",
    "    print(f\"Best Books Ever: {len(bbe_descriptions)} descriptions\")\n",
    "    print(df_bbe[[\"title\", \"description\"]].head())\n",
    "except Exception as e:\n",
    "    bbe_descriptions = []\n",
    "    print(f\"Error with Best Books Ever: {e}\")"
   ]
  },
  {
   "cell_type": "code",
   "execution_count": 49,
   "metadata": {},
   "outputs": [
    {
     "name": "stdout",
     "output_type": "stream",
     "text": [
      "Fantasy-Name-Generator: 840 names\n",
      "['Adalbert Bolger', 'Adaldrida Bolger', 'Adalgar Bolger', 'Adalgrim Took', 'Adamanta Chubb']\n"
     ]
    }
   ],
   "source": [
    "# Fantasy-Name-Generator Dataset\n",
    "# Download names from GitHub for characters and entities.\n",
    "\n",
    "# %%\n",
    "url_names = [\n",
    "    \"https://raw.githubusercontent.com/borhanMorphy/fantasy-name-generator/refs/heads/main/data/lotr_names.txt\"\n",
    "]\n",
    "\n",
    "fantasy_names = []\n",
    "\n",
    "for url in url_names:\n",
    "    try:\n",
    "        response_names = requests.get(url)\n",
    "        with open(f\"{url[url.rfind('/') :]}\", \"wb\") as file:\n",
    "            file.write(response_names.content)\n",
    "        with open(f\"{url[url.rfind('/') :]}\", \"r\", encoding=\"utf-8\") as file:\n",
    "            [fantasy_names.append(line.strip()) for line in file if line.strip()]\n",
    "        print(f\"Fantasy-Name-Generator: {len(fantasy_names)} names\")\n",
    "        print(fantasy_names[:5])\n",
    "    except Exception as e:\n",
    "        fantasy_names = []\n",
    "        print(f\"Error with Fantasy Names: {e}\")"
   ]
  },
  {
   "cell_type": "code",
   "execution_count": 50,
   "metadata": {},
   "outputs": [
    {
     "name": "stdout",
     "output_type": "stream",
     "text": [
      "Game of Thrones: 26 locations\n",
      "            location                                        subLocation\n",
      "0  North of the Wall  [The Lands of Always Winter, Cave Outside Wild...\n",
      "1           The Wall  [Nightfort, Eastwatch, Top of the Wall, Castle...\n",
      "2          The North  [The Gift, Last Hearth, Bear Island, North to ...\n",
      "3  The Shivering Sea                                                 []\n",
      "4           The Vale  [Runestone, The Eyrie, To The Eyrie, Eastern R...\n"
     ]
    }
   ],
   "source": [
    "# Game of Thrones Locations\n",
    "# Download locations.json from GitHub for fantasy locations.\n",
    "\n",
    "\n",
    "url_got = \"https://raw.githubusercontent.com/jeffreylancaster/game-of-thrones/master/data/locations.json\"\n",
    "try:\n",
    "    response_got = requests.get(url_got)\n",
    "    with open(\"data/got_locations.json\", \"wb\") as file:\n",
    "        file.write(response_got.content)\n",
    "    with open(\"data/got_locations.json\", \"r\") as file:\n",
    "        got_data = json.load(file)\n",
    "    df_got = pd.DataFrame(got_data.get(\"regions\", []))\n",
    "    got_locations = df_got[\"location\"].dropna().tolist()\n",
    "    print(f\"Game of Thrones: {len(got_locations)} locations\")\n",
    "    print(df_got.head())\n",
    "except Exception as e:\n",
    "    got_locations = []\n",
    "    print(f\"Error with Game of Thrones: {e}\")"
   ]
  },
  {
   "cell_type": "code",
   "execution_count": 51,
   "metadata": {},
   "outputs": [
    {
     "name": "stdout",
     "output_type": "stream",
     "text": [
      "CharacterCodex: 15939 descriptions\n",
      "{'media_type': 'Webcomics', 'genre': 'Fantasy Webcomics', 'character_name': 'Alana', 'media_source': 'Saga', 'description': 'Alana is one of the main characters from the webcomic \"Saga.\" She is a strong-willed and fiercely protective mother who is on the run with her family in a war-torn galaxy. The story blends elements of fantasy and science fiction, creating a rich and complex narrative.', 'scenario': \"You are a fellow traveler in the galaxy needing help, and Alana offers her assistance while sharing stories of her family's struggles and triumphs.\"}\n",
      "{'media_type': 'Novels', 'genre': 'Martial Arts Fiction', 'character_name': 'Yilin', 'media_source': 'The Smiling, Proud Wanderer', 'description': 'Yilin is a young nun from the Hengshan Sect in Jin Yong\\'s novel \"The Smiling, Proud Wanderer.\" Known for her innocence and kindness, she becomes friends with the protagonist Linghu Chong. Her gentle nature often puts her at odds with the violent world of martial arts.', 'scenario': \"You are a fellow disciple of the Hengshan Sect seeking Yilin's comfort and advice after a particularly brutal conflict. Her gentle demeanor and compassionate words provide solace in a harsh world.\"}\n",
      "{'media_type': 'Graphic Novels', 'genre': 'Adventure', 'character_name': 'Atomic Robo', 'media_source': 'Atomic Robo', 'description': 'Atomic Robo is the protagonist of the \"Atomic Robo\" graphic novel series created by Brian Clevinger and Scott Wegener. He is a robot with human-like intelligence and emotions, created by Nikola Tesla. Robo works for Tesladyne Industries, where he leads a team of Action Scientists on various adventures involving science fiction, supernatural phenomena, and historical events.', 'scenario': 'Atomic Robo is investigating a strange energy signature in an abandoned laboratory. He meets with a former colleague who has crucial information about the experiments that were conducted there.'}\n",
      "{'media_type': 'Manga', 'genre': 'Magic', 'character_name': 'Natsu Dragneel', 'media_source': 'Fairy Tail', 'description': 'Natsu Dragneel is the main protagonist of the manga and anime series \"Fairy Tail.\" He is a member of the Fairy Tail Guild and a Dragon Slayer wizard, capable of using powerful fire magic. Natsu is known for his fiery personality, loyalty to his friends, and his quest to find his adoptive dragon father, Igneel.', 'scenario': 'You find Natsu in the guild hall, laughing with his friends. He invites you to join their latest mission, promising it will be filled with excitement and adventure.'}\n",
      "{'media_type': 'Graphic Novels', 'genre': 'Biography', 'character_name': 'Maus', 'media_source': \"Maus: A Survivor's Tale\", 'description': '\"Maus\" is a graphic novel by Art Spiegelman that depicts the experiences of the author\\'s father, Vladek Spiegelman, a Polish Jew and Holocaust survivor. The novel uses anthropomorphic characters, with Jews represented as mice and Nazis as cats. Vladek\\'s story is interwoven with Art\\'s struggle to understand and document his father\\'s harrowing experiences.', 'scenario': 'You are interviewing Vladek Spiegelman about his experiences during the Holocaust. He recounts the challenges he faced, the people he lost, and how he managed to survive in such dire circumstances.'}\n"
     ]
    }
   ],
   "source": [
    "# CharacterCodex Dataset\n",
    "# Download from Hugging Face for character descriptions.\n",
    "\n",
    "url_cc = \"https://huggingface.co/datasets/NousResearch/CharacterCodex/resolve/main/character_codex.json\"\n",
    "try:\n",
    "    response_cc = requests.get(url_cc)\n",
    "    with open(\"data/character_codex.json\", \"wb\") as file:\n",
    "        file.write(response_cc.content)\n",
    "\n",
    "    with open(\"data/character_codex.json\", \"r\", encoding=\"utf-8\") as file:\n",
    "        entry = json.loads(file.read())\n",
    "    print(f\"CharacterCodex: {len(entry)} descriptions\")\n",
    "    [print(x) for x in entry[:5]]\n",
    "except Exception as e:\n",
    "    print(f\"Error with CharacterCodex: {e}\")"
   ]
  },
  {
   "cell_type": "code",
   "execution_count": 53,
   "metadata": {},
   "outputs": [
    {
     "name": "stdout",
     "output_type": "stream",
     "text": [
      "Extra data: line 1 column 4 (char 3)\n",
      "Extra data: line 1 column 4 (char 3)\n",
      "CRD3: 243013 descriptions extracted.\n",
      "Hello everyone. My name is Matthew Mercer,\n",
      "voice actor and Dungeon Master for Critical Role\n",
      "on Geek & Sundry, where I take a bunch of other\n",
      "voice actors and run them through a fantastical\n",
      "fantasy adventure through the world of Dungeons &\n"
     ]
    },
    {
     "data": {
      "text/plain": [
       "[None, None, None, None, None]"
      ]
     },
     "execution_count": 53,
     "metadata": {},
     "output_type": "execute_result"
    }
   ],
   "source": [
    "# CRD3 Dataset (World Descriptions)\n",
    "# Download a sample CRD3 file, extract dialogue for world-building narratives.\n",
    "\n",
    "# %%\n",
    "# Download CRD3 sample file (e.g., episode 1 transcript) total 115\n",
    "\n",
    "crd3_descriptions = []\n",
    "\n",
    "for i in range(1, 110):\n",
    "    try:\n",
    "        file_name = f\"C1E{str(i).zfill(3)}.json\"\n",
    "        url_crd3 = (\n",
    "            f\"https://raw.githubusercontent.com/RevanthRameshkumar/CRD3/refs/heads/master/data/cleaned%20data/\"\n",
    "            + file_name\n",
    "        )\n",
    "\n",
    "        response_crd3 = requests.get(url_crd3)\n",
    "        with open(f\"data/\" + file_name, \"wb\") as file:\n",
    "            file.write(response_crd3.content)\n",
    "\n",
    "        with open(f\"data/\" + file_name, \"r\", encoding=\"utf-8\") as file:\n",
    "            crd3_data = json.load(file)\n",
    "\n",
    "        for turn in crd3_data.get(\"TURNS\", []):\n",
    "            if \"MATT\" in turn.get(\"NAMES\", []):\n",
    "                utterances = turn.get(\"UTTERANCES\", [])\n",
    "                for utterance in utterances:\n",
    "                    crd3_descriptions.append(utterance)\n",
    "    except Exception as e:\n",
    "        print(e)\n",
    "\n",
    "\n",
    "print(f\"CRD3: {len(crd3_descriptions)} descriptions extracted.\")\n",
    "[print(x) for x in crd3_descriptions[:5]]"
   ]
  },
  {
   "cell_type": "code",
   "execution_count": null,
   "metadata": {},
   "outputs": [
    {
     "name": "stdout",
     "output_type": "stream",
     "text": [
      "Total: 15200 book descriptions, 840 character names, 15939 character descriptions, 26 location names, 6778 narrations\n",
      "Data saved to worldbuilding_data.txt\n"
     ]
    }
   ],
   "source": [
    "# Combine Data for RAG\n",
    "# Combine descriptions, names, and locations into a single file.\n",
    "\n",
    "# %%\n",
    "all_data = {\n",
    "    \"book_descriptions\": bbe_descriptions,\n",
    "    \"character_names\": fantasy_names + [x.get(\"name\") for x in entry if x.get(\"name\")],\n",
    "    \"character_descriptions\": [x[\"description\"] for x in entry],\n",
    "    \"location_names\": got_locations,\n",
    "    \"narrations\": crd3_descriptions,\n",
    "}\n",
    "print(\n",
    "    f\"Total: {len(all_data['book_descriptions'])} book descriptions, {len(all_data['character_names'])} character names, {len(all_data['character_descriptions'])} character descriptions, {len(all_data['location_names'])} location names, {len(all_data['narrations'])} narrations\"\n",
    ")\n",
    "\n",
    "with open(\"worldbuilding_data.txt\", \"w\", encoding=\"utf-8\") as file:\n",
    "    file.write(\"=== Book Descriptions ===\\n\")\n",
    "    for desc in all_data[\"book_descriptions\"]:\n",
    "        file.write(f\"{desc}\\n---\\n\")\n",
    "    file.write(\"=== Character Names ===\\n\")\n",
    "    for name in all_data[\"character_names\"]:\n",
    "        file.write(f\"{name}\\n\")\n",
    "    file.write(\"=== Character Descriptions ===\\n\")\n",
    "    for desc in all_data[\"character_descriptions\"]:\n",
    "        file.write(f\"{desc}\\n---\\n\")\n",
    "    file.write(\"=== Location Names ===\\n\")\n",
    "    for loc in all_data[\"location_names\"]:\n",
    "        file.write(f\"{loc}\\n\")\n",
    "    file.write(\"=== Narrations ===\\n\")\n",
    "    for narration in all_data[\"narrations\"]:\n",
    "        file.write(f\"{narration}\\n\")\n",
    "\n",
    "print(\"Data saved to worldbuilding_data.txt\")"
   ]
  },
  {
   "cell_type": "markdown",
   "metadata": {},
   "source": [
    "## Donjon.bin.sh \n",
    "A good site with open API for generating Fantasy and DND-specific things \n",
    "\n",
    "We may be able to use it as agent tools "
   ]
  },
  {
   "cell_type": "code",
   "execution_count": 59,
   "metadata": {},
   "outputs": [
    {
     "name": "stdout",
     "output_type": "stream",
     "text": [
      "World API\n",
      "['Eglalath: A medieval world of desolate deserts and azure seas, illuminated '\n",
      " 'by a white sun. The world is mostly populated by dwarves, though with large '\n",
      " 'numbers of other races.',\n",
      " 'Thumla: A savage realm of shadowed woodlands, vast lowlands, and azure '\n",
      " 'oceans. The realm is primarily populated by gnolls and goblins.']\n"
     ]
    }
   ],
   "source": [
    "from pprint import pprint\n",
    "\n",
    "print(\"World API\")\n",
    "r = requests.get(\n",
    "    \"https://donjon.bin.sh/fantasy/random/rpc-fantasy.fcgi?type=World&n=10\"\n",
    ")\n",
    "pprint(json.loads(r.text)[:2])"
   ]
  },
  {
   "cell_type": "code",
   "execution_count": 60,
   "metadata": {},
   "outputs": [
    {
     "name": "stdout",
     "output_type": "stream",
     "text": [
      "Locations Tool API\n",
      "['Mara, a malevolent realm of ashen deserts and poisoned seas, illuminated by '\n",
      " 'three crimson suns. The realm is the domain of Maeli, a demigod of '\n",
      " 'destruction, and is populated by trolls. It is also the location of the '\n",
      " 'Tower of Eternal Night, a bastion of insane cultists and warlocks.',\n",
      " 'Gothrithiml, an elemental world of sapphire water and forests of kelp. The '\n",
      " 'world is the domain of Elebrir, a deity of rivers, and is populated by '\n",
      " 'nereids. The denizens of Gothrithiml are at war with invading demons.']\n"
     ]
    }
   ],
   "source": [
    "print(\"Locations Tool API\")\n",
    "r = requests.get(\n",
    "    \"https://donjon.bin.sh/fantasy/random/rpc-fantasy.fcgi?type=Location&loc_type=&n=10\"\n",
    ")\n",
    "pprint(json.loads(r.text)[:2])"
   ]
  },
  {
   "cell_type": "code",
   "execution_count": 61,
   "metadata": {},
   "outputs": [
    {
     "name": "stdout",
     "output_type": "stream",
     "text": [
      "Character Generation API\n",
      "['Efrix: Female Halfling Scofflaw, Neutral. Efrix has a narrow face, with grey '\n",
      " 'hair and brown eyes. She wears sturdy clothing and carries a hazel staff. '\n",
      " 'Efrix is courageous and suspicious.',\n",
      " 'Grodre Iostidson: Male Dwarf Priest, Evil. Grodre has golden hair and bright '\n",
      " 'blue eyes, and a maimed right hand. He wears well-made clothing and a sling '\n",
      " 'of vials and potions. Grodre is violent but cultured.']\n"
     ]
    }
   ],
   "source": [
    "print(\"Character Generation API\")\n",
    "r = requests.get(\n",
    "    \"https://donjon.bin.sh/fantasy/random/rpc-fantasy.fcgi?type=NPC&race=&gender=&order=&culture=&n=10\"\n",
    ")\n",
    "pprint(json.loads(r.text)[:2])"
   ]
  },
  {
   "cell_type": "code",
   "execution_count": 69,
   "metadata": {},
   "outputs": [
    {
     "name": "stdout",
     "output_type": "stream",
     "text": [
      "Towns and Cities API\n",
      "['Naramunz: Population 11800, mixed dwarf and gnome. Most of the city is '\n",
      " 'delved into the sides of a mountain. It is governed by a consortium of '\n",
      " 'guildmasters, whose weekly meetings often turn into drunken brawls. Naramunz '\n",
      " 'is renowned for its fine armories and axesmiths.',\n",
      " 'Lindorthell: Population 650, primarily elf, some halfling. A major road runs '\n",
      " 'through the center of the village. It is governed by a council of elders, '\n",
      " 'whose bizarre laws and decrees are commonly ignored. Lindorthell has seen '\n",
      " 'better days, and its streets are filled with filth.']\n"
     ]
    }
   ],
   "source": [
    "print(\"Towns and Cities API\")\n",
    "r = requests.get(\n",
    "    \"https://donjon.bin.sh/fantasy/random/rpc-fantasy.fcgi?type=Town&size=&race=&culture=&n=10\"\n",
    ")\n",
    "pprint(json.loads(r.text)[:2])"
   ]
  },
  {
   "cell_type": "markdown",
   "metadata": {},
   "source": [
    "And a good example on how an Adventure should be generated\n",
    "\n",
    "Can be used both as a tool or just as an adventure schema"
   ]
  },
  {
   "cell_type": "code",
   "execution_count": 67,
   "metadata": {},
   "outputs": [
    {
     "data": {
      "text/plain": [
       "{'Theme': {'value': 'Horror',\n",
       "  'description': 'This type of adventure is designed to scare both the characters\\n      and the players. Just having a monster attack is not enough for a\\n      horror theme; the monster must first frighten the characters.'},\n",
       " 'Goal': {'value': 'Rescue NPC(s)',\n",
       "  'description': 'The characters must rescue one or more kidnapped NPCs, probably\\n      from the stronghold of the kidnapper. Obviously, they must get to\\n      said stronghold, break in, rescue the kidnappee, break out, and\\n      escape back to safety; this usually requires careful and clever\\n      planning and a large dose of luck.'},\n",
       " 'Story Hook': {'value': 'Old Friend',\n",
       "  'description': 'Another classic story hook is the Old Friend, the childhood\\n      friend of our hero, who shows up in one of several ways to drag\\n      the hero into the story.'},\n",
       " 'Plot': {'value': 'A-B-C Quest',\n",
       "  'description': 'This is an epic sort of plot. In it, the heros are given (or\\n      undertake) a task to perform: The taking of a city, the rescue of\\n      an innocent, the destruction of a monster, the creation of a\\n      magical item, the defeat of a Master Villain, etc. But the path\\n      to victory is not a simple one. To get to their goal, Event A,\\n      they find that they must first accomplish some other task --\\n      Event B. But when they undertake the task of accomplishing Event\\n      B, they find that they must first accomplish Event C. This goes\\n      on for several encounters, until the heroes accomplish all the\\n      obstacle events which prevent them from returning to Event A,\\n      their original goal.'},\n",
       " 'Climax': {'value': 'Scattered Duels',\n",
       "  'description': \"In this climax, the heroes have gotten to the end of their quest\\n      -- they may have broken into, sneaked into, or escaped from\\n      imprisonment within the villain's citadel, or have marched into\\n      the little town where the villain is holed up -- and they become\\n      separated. You can separate them by having traps and tricks break\\n      the party apart, by having them see two or three things they must\\n      resolve (such as danger to innocents or the appearance of minion\\n      villains) pop up simultaneously; they'll have to run in all\\n      directions at the same time or suffer failure. Once the party is\\n      broken down into bite-sized chunks, you confront each individual\\n      or small group with the enemy or enemies he most deserves to face\\n      -- his personal enemy, the monster which defeated him before,\\n      etc. -- for a grand series of climactic duels.\"},\n",
       " 'General Setting': {'value': 'Under the Ground',\n",
       "  'description': \"In this variety of adventure, the heroes descend into vast cavern\\n      networks beneath the earth's crust. There, they can encounter\\n      bizarre races and primitive tribes, hitherto-unknown monsters and\\n      strange landscapes.\"},\n",
       " 'Specific Setting I': {'value': \"Craftsman's Quarter\",\n",
       "  'description': 'This can occur in either the shop of the master craftsman of a\\n      palace or manor, or the guild-area of a city.'},\n",
       " 'Specific Setting II': {'value': 'Palace of the King',\n",
       "  'description': \"The heroes could be here for many, many different reasons: Trying\\n      to get a favor from the ruler, part of some nobleman's retinue,\\n      members of the palace guard, sneaking in to save the ruler from\\n      assassins, sneaking in to assassinate the ruler, thrown into the\\n      dungeon for crimes they did or didn't commit, etc.\"},\n",
       " 'Master Villain': {'value': 'Lovable Rogue',\n",
       "  'description': \"This Master Villain isn't really evil -- he's just chaotic and\\n      fun. Cheerful bandits in the forest who rob from the rich and\\n      give to the poor, singing and rope-swinging pirate kings, and\\n      romantic, sophisticated duellists all belong to the category of\\n      the Lovable Rogue. Often, the Rogue will not be behind the\\n      nastiness the heroes are encountering; he may be in competition\\n      with them for the prize they're seeking. Often the heroes and the\\n      Rogue (and his minions) will have to team up to succeed at their\\n      task. Just as often, the Rogue will try to get away with the\\n      whole treasure.\"},\n",
       " 'Minor Villain I': {'value': 'Chief Assassin',\n",
       "  'description': \"The Chief Assassin is the favorite killer of the Master Villain.\\n      The Assassin works mostly in the field, first killing witnesses\\n      who might prove harmful to his master, then zeroing in on the\\n      player-characters. He usually meets his end before the\\n      adventure's climax, but he may taken one of the heroes down with\\n      him.\"},\n",
       " 'Minor Villain II': {'value': 'Moronic Muscleman',\n",
       "  'description': \"This fellow is a huge, powerful monster of a fighter. His job is\\n      to smash anything the villain tells him to smash. He does that\\n      very well, but don't ask him to do any thinking; he has no time\\n      for such brainy stuff.\"},\n",
       " 'Ally/Neutral': {'value': 'Government Observer',\n",
       "  'description': \"For some reason, the heroes' ruler wants one of his own people\\n      accompanying them. Whatever the reason, the heroes are now stuck\\n      with a haughty, self-important royal observer, an expert in\\n      (probably) military tactics or espionage. He continually offers\\n      unwanted advice and tends to get the heroes into trouble by\\n      pulling rank whenever he's not satisfied.\"},\n",
       " 'Monster Encounter': {'value': 'Assassin Monster',\n",
       "  'description': \"This mosnter, at some time in the adventure, is sent by the\\n      Master Villain to attack one or more heroes when they're at their\\n      most vulnerable -- asleep, enjoying themselves, etc. Usually, the\\n      Assassin Monster attacks, but the hero, though injured, is able\\n      to hold it off long enough for his friends to respond to his\\n      shouts. The Assassin Monster is usually killed by his friends,\\n      who can then speculate on who sent it and why.\"},\n",
       " 'Character Encounter': {'value': 'Blackmailer',\n",
       "  'description': \"If the party is pulling a scam, this person knows it and can tell\\n      the potential victim; if they're wanted by the authorities, he's\\n      willing to alert the authorities that they're here; if they're\\n      hiding out from the Master Villain, he's going to tell said\\n      villain that they're here; he may have kidnapped one of their\\n      favorite NPCs and be holding him for ransom; and so on.\"},\n",
       " 'Deathtrap': {'value': 'Pit and the Pendulum',\n",
       "  'description': \"Actually, we're applying this term to any of many time-delay\\n      deathtraps. In this sort of trap, the villains capture the heroes\\n      and place them in a trap which will soon kill them -- it operates\\n      on a delay, often based on a timing device or a burning fuse.\"},\n",
       " 'Chase': {'value': 'Endurance',\n",
       "  'description': \"The Endurance Chase is not some sort of climactic chase -- it's a\\n      rugged, tiring, persistent pursuit that tests the characters to\\n      their limits. In this chase, the heroes and villains are pursuing\\n      one another across a lot of territory and they're not catching up\\n      with one another very fast. This may be a horseback pursuit\\n      across a hundred miles of savannah, a camel chase across several\\n      days' worth of desert, or a chase across arctic tundra.\"},\n",
       " 'Omen/Prophesy': {'value': 'Reincarnation',\n",
       "  'description': \"The hero, seeing the portrait of some long-dead nobleman, may be\\n      surprised to see his own face staring back at him. All evidence\\n      points to the fact that our hero is the reincarnation of this\\n      person, and the Master Villain may desire to destroy any trace of\\n      that nobleman's existence. Just as appropriately, this long-dead\\n      nobleman may have died after making some important choice -- such\\n      as choosing love over career or career over friends; and the\\n      choice he faced is identical to the one the hero now faces. Will\\n      our hero defy the prophecy and choose as he did in a previous\\n      life, or will he choose the other option and see what happens?\"},\n",
       " 'Secret Weakness': {'value': 'Element',\n",
       "  'description': 'The Master Villain can be banished, dispelled, killed, or\\n      otherwise defeated by some of element or item. The Master Villain\\n      tries to get rid of all the examples of this element in his\\n      vicinity; he doesn\\'t let his minions carry it or bring it into\\n      his presence. But he\\'s not stupid; he doesn\\'t announce to the\\n      world what his weakness is. He tries to hide his concern within\\n      another command. If he\\'s allergic to red roses, for instance, he\\n      orders all \"things of beauty\" destroyed within miles of his\\n      abode.'},\n",
       " 'Special Condition': {'value': 'Coping with a Curse',\n",
       "  'description': \"The curse might be making the hero progressively uglier, might be\\n      draining out his life-force (he's losing experience which will be\\n      retruned if he succeeds), or might be making him progressively\\n      insane. Each day, as he sees his reflection in a mirror or pond\\n      or fountain, he'll know himself to be less than he used to be.\"},\n",
       " 'Moral Quandry': {'value': 'Honor Quandry',\n",
       "  'description': 'You want to use this on the character with the most strongly\\n      developed sense of personal honor -- someone who has lived all\\n      his life by a strict code. Toward the end of the adventure, this\\n      character realizes that the best way to defeat the Master Villain\\n      is a violation of that code. For instance, the character might be\\n      a paladin, who discovers that the only possible way for the\\n      heroes to defeat the Master Villain is to sneak up on him and\\n      stab him in the back.'},\n",
       " 'Red Herring': {'value': 'False Path to the Artifact',\n",
       "  'description': 'Once again, if the heroes have had too easy a time finding the\\n      artifact capable of destroying the villain, give them trouble\\n      this way: When they get to the place where the artifact is\\n      supposed to be contained, they find the coffer or chamber or\\n      whatever empty, obviously looted by robbers, who have scrawled\\n      such remarks as \"Kelrog was here!\" upon the walls.'},\n",
       " 'Cruel Trick': {'value': 'Heroes Must Work with Villain',\n",
       "  'description': \"If they have to work for the villain, it's due to some hold he\\n      has over them -- probably, he's kidnapped one of their NPCs and\\n      will kill this person if his demands aren't met. Put the heroes\\n      through the encounter where they have to do something they are\\n      loathe to do, such as sack and pillage a temple, before they have\\n      the opportunity to retrieve their friend.\"}}"
      ]
     },
     "execution_count": 67,
     "metadata": {},
     "output_type": "execute_result"
    }
   ],
   "source": [
    "from bs4 import BeautifulSoup\n",
    "\n",
    "r = requests.get(\"https://donjon.bin.sh/fantasy/adventure/\")\n",
    "\n",
    "\n",
    "soup = BeautifulSoup(r.text, \"html.parser\")\n",
    "\n",
    "\n",
    "adventure_data = {}\n",
    "\n",
    "table = soup.find(\"table\", id=\"adventure\")\n",
    "\n",
    "rows = table.find_all(\"tr\", class_=\"section\")\n",
    "\n",
    "for row in rows:\n",
    "    section_title = row.find(\"td\", class_=\"section_title\").get_text(strip=True)\n",
    "\n",
    "    value_cell = row.find(\"td\").find_next_sibling(\"td\")\n",
    "    value = (\n",
    "        value_cell.find(\"b\").get_text(strip=True)\n",
    "        if value_cell.find(\"b\")\n",
    "        else value_cell.get_text(strip=True)\n",
    "    )\n",
    "\n",
    "    next_row = row.find_next_sibling(\"tr\")\n",
    "    description = next_row.find(\"td\").get_text(strip=True) if next_row else \"\"\n",
    "\n",
    "    adventure_data[section_title] = {\"value\": value, \"description\": description}\n",
    "\n",
    "\n",
    "adventure_data"
   ]
  }
 ],
 "metadata": {
  "kernelspec": {
   "display_name": "venv",
   "language": "python",
   "name": "python3"
  },
  "language_info": {
   "codemirror_mode": {
    "name": "ipython",
    "version": 3
   },
   "file_extension": ".py",
   "mimetype": "text/x-python",
   "name": "python",
   "nbconvert_exporter": "python",
   "pygments_lexer": "ipython3",
   "version": "3.12.6"
  }
 },
 "nbformat": 4,
 "nbformat_minor": 2
}
